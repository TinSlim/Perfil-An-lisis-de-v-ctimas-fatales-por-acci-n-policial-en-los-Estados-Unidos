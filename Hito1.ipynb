{
  "nbformat": 4,
  "nbformat_minor": 0,
  "metadata": {
    "colab": {
      "name": "Hito1",
      "provenance": [],
      "collapsed_sections": []
    },
    "kernelspec": {
      "name": "python3",
      "display_name": "Python 3"
    }
  },
  "cells": [
    {
      "cell_type": "markdown",
      "metadata": {
        "id": "eB5A7QmWKqYX"
      },
      "source": [
        "#Proyecto Semestral: Hito 1\n",
        "\n",
        "##CC5206 Semestre de Primavera 2020\n",
        "\n",
        "Alumnos: Joaquin Cruz, Ignacio Dassori, Pablo Muñoz, Catalina Paz, Cristóbal Torres\n",
        "\n",
        "Profesores: Felipe Bravo, Hernán Sarmiento\n",
        "\n",
        "Fecha de entrega: 16 de octubre de 2020"
      ]
    },
    {
      "cell_type": "markdown",
      "metadata": {
        "id": "SmtjoLaz8i3g"
      },
      "source": [
        "## Introducción\n",
        "\n",
        " Estados Unidos se encuentra dentro de los países con mayor tasa de muertes por mano de la policía al año. En comparación con el resto de países que encabezan la lista, el resto todos presentan o bien conflictos internos (Venezuela y Siria) o políticas severas con respecto al uso de fuerza letal en contra de criminales (Brasil y las Filipinas). Resulta entonces interesante analizar el perfil de las víctimas en los Estados Unidos. Poder ver también si influyen las características que se pueden notar a simple vista en el desenlace de la situación, como si la víctima está armada, si intenta darse a la fuga, la raza a la que pertenece o su género, junto a alguna correlación entre los atributos."
      ]
    },
    {
      "cell_type": "code",
      "metadata": {
        "id": "r1CPaHrzypZ7"
      },
      "source": [
        "import pandas as pd\n",
        "import numpy as np\n",
        "import matplotlib.pyplot as plt\n",
        "data = pd.read_csv(\"https://raw.githubusercontent.com/washingtonpost/data-police-shootings/master/fatal-police-shootings-data.csv\")"
      ],
      "execution_count": null,
      "outputs": []
    },
    {
      "cell_type": "markdown",
      "metadata": {
        "id": "xSDFQjg3_n-Z"
      },
      "source": [
        "## Limpieza de Datos\n",
        "\n",
        "Primero es importante ver la cantidad de datos que trae el dataset y además revisar cuántos valores nulos (NaN) hay en este mismo."
      ]
    },
    {
      "cell_type": "code",
      "metadata": {
        "id": "yiSzTNvm0f3V",
        "outputId": "2f5bb85a-82c2-42ec-e98f-49d8a162bc4e",
        "colab": {
          "base_uri": "https://localhost:8080/",
          "height": 374
        }
      },
      "source": [
        "print(\"Cantidad de Datos: \", len(data), \"\\n\")\n",
        "print(\"Cantidad de nulos por atributo: \")\n",
        "data.isnull().sum()"
      ],
      "execution_count": null,
      "outputs": [
        {
          "output_type": "stream",
          "text": [
            "Cantidad de Datos:  5673 \n",
            "\n",
            "Cantidad de nulos por atributo: \n"
          ],
          "name": "stdout"
        },
        {
          "output_type": "execute_result",
          "data": {
            "text/plain": [
              "id                           0\n",
              "name                       209\n",
              "date                         0\n",
              "manner_of_death              0\n",
              "armed                      212\n",
              "age                        253\n",
              "gender                       1\n",
              "race                       590\n",
              "city                         0\n",
              "state                        0\n",
              "signs_of_mental_illness      0\n",
              "threat_level                 0\n",
              "flee                       283\n",
              "body_camera                  0\n",
              "longitude                  275\n",
              "latitude                   275\n",
              "is_geocoding_exact           0\n",
              "dtype: int64"
            ]
          },
          "metadata": {
            "tags": []
          },
          "execution_count": 103
        }
      ]
    },
    {
      "cell_type": "markdown",
      "metadata": {
        "id": "NuQYk00NAmhX"
      },
      "source": [
        "El atributo de raza posee la mayor cantidad de nulos, sin embargo solo logra ser el 10% de la cantidad total de datos, de modo que es razonable la idea de eliminar los datos que poseen nulos. Además los atributos ID y nombre no son relevantes en el análisis e interpretación de datos que se llevará a cabo, de modo que ambas columnas se pueden eliminar."
      ]
    },
    {
      "cell_type": "code",
      "metadata": {
        "id": "29LoditgAHOd",
        "outputId": "cc319013-be54-457e-8f06-62a1a63b816c",
        "colab": {
          "base_uri": "https://localhost:8080/",
          "height": 101
        }
      },
      "source": [
        "tamanho_inicial = len(data)\n",
        "data = data.drop([\"id\",\"name\",\"is_geocoding_exact\"],axis=1)\n",
        "data = data.dropna()\n",
        "tamanho_final = len(data)\n",
        "\n",
        "print(\"Tamaño pre procesado: \",tamanho_inicial,\"\\nTamaño post procesado: \", tamanho_final,\"\\n\")\n",
        "print(\"Diferencia: \",tamanho_inicial-tamanho_final)\n",
        "print(\"Porcentaje eliminado: \",(int(100-((tamanho_final*100)/tamanho_inicial))),'%')"
      ],
      "execution_count": null,
      "outputs": [
        {
          "output_type": "stream",
          "text": [
            "Tamaño pre procesado:  5680 \n",
            "Tamaño post procesado:  4376 \n",
            "\n",
            "Diferencia:  1304\n",
            "Porcentaje eliminado:  22 %\n"
          ],
          "name": "stdout"
        }
      ]
    },
    {
      "cell_type": "markdown",
      "metadata": {
        "id": "vJPMFLkp08Tk"
      },
      "source": [
        "Si bien se descartó casi un 22% de los datos totales, se sigue contando con un volumen de datos razonablemente grande para realizar análisis"
      ]
    },
    {
      "cell_type": "code",
      "metadata": {
        "id": "gHwZe2omDfWA",
        "outputId": "a736105f-6b49-4070-c798-55db113946f5",
        "colab": {
          "base_uri": "https://localhost:8080/",
          "height": 241
        }
      },
      "source": [
        "data.head(4)"
      ],
      "execution_count": null,
      "outputs": [
        {
          "output_type": "execute_result",
          "data": {
            "text/html": [
              "<div>\n",
              "<style scoped>\n",
              "    .dataframe tbody tr th:only-of-type {\n",
              "        vertical-align: middle;\n",
              "    }\n",
              "\n",
              "    .dataframe tbody tr th {\n",
              "        vertical-align: top;\n",
              "    }\n",
              "\n",
              "    .dataframe thead th {\n",
              "        text-align: right;\n",
              "    }\n",
              "</style>\n",
              "<table border=\"1\" class=\"dataframe\">\n",
              "  <thead>\n",
              "    <tr style=\"text-align: right;\">\n",
              "      <th></th>\n",
              "      <th>date</th>\n",
              "      <th>manner_of_death</th>\n",
              "      <th>armed</th>\n",
              "      <th>age</th>\n",
              "      <th>gender</th>\n",
              "      <th>race</th>\n",
              "      <th>city</th>\n",
              "      <th>state</th>\n",
              "      <th>signs_of_mental_illness</th>\n",
              "      <th>threat_level</th>\n",
              "      <th>flee</th>\n",
              "      <th>body_camera</th>\n",
              "      <th>longitude</th>\n",
              "      <th>latitude</th>\n",
              "    </tr>\n",
              "  </thead>\n",
              "  <tbody>\n",
              "    <tr>\n",
              "      <th>0</th>\n",
              "      <td>2015-01-02</td>\n",
              "      <td>shot</td>\n",
              "      <td>gun</td>\n",
              "      <td>53.0</td>\n",
              "      <td>M</td>\n",
              "      <td>A</td>\n",
              "      <td>Shelton</td>\n",
              "      <td>WA</td>\n",
              "      <td>True</td>\n",
              "      <td>attack</td>\n",
              "      <td>Not fleeing</td>\n",
              "      <td>False</td>\n",
              "      <td>-123.122</td>\n",
              "      <td>47.247</td>\n",
              "    </tr>\n",
              "    <tr>\n",
              "      <th>1</th>\n",
              "      <td>2015-01-02</td>\n",
              "      <td>shot</td>\n",
              "      <td>gun</td>\n",
              "      <td>47.0</td>\n",
              "      <td>M</td>\n",
              "      <td>W</td>\n",
              "      <td>Aloha</td>\n",
              "      <td>OR</td>\n",
              "      <td>False</td>\n",
              "      <td>attack</td>\n",
              "      <td>Not fleeing</td>\n",
              "      <td>False</td>\n",
              "      <td>-122.892</td>\n",
              "      <td>45.487</td>\n",
              "    </tr>\n",
              "    <tr>\n",
              "      <th>2</th>\n",
              "      <td>2015-01-03</td>\n",
              "      <td>shot and Tasered</td>\n",
              "      <td>unarmed</td>\n",
              "      <td>23.0</td>\n",
              "      <td>M</td>\n",
              "      <td>H</td>\n",
              "      <td>Wichita</td>\n",
              "      <td>KS</td>\n",
              "      <td>False</td>\n",
              "      <td>other</td>\n",
              "      <td>Not fleeing</td>\n",
              "      <td>False</td>\n",
              "      <td>-97.281</td>\n",
              "      <td>37.695</td>\n",
              "    </tr>\n",
              "    <tr>\n",
              "      <th>3</th>\n",
              "      <td>2015-01-04</td>\n",
              "      <td>shot</td>\n",
              "      <td>toy weapon</td>\n",
              "      <td>32.0</td>\n",
              "      <td>M</td>\n",
              "      <td>W</td>\n",
              "      <td>San Francisco</td>\n",
              "      <td>CA</td>\n",
              "      <td>True</td>\n",
              "      <td>attack</td>\n",
              "      <td>Not fleeing</td>\n",
              "      <td>False</td>\n",
              "      <td>-122.422</td>\n",
              "      <td>37.763</td>\n",
              "    </tr>\n",
              "  </tbody>\n",
              "</table>\n",
              "</div>"
            ],
            "text/plain": [
              "         date   manner_of_death       armed  ...  body_camera longitude latitude\n",
              "0  2015-01-02              shot         gun  ...        False  -123.122   47.247\n",
              "1  2015-01-02              shot         gun  ...        False  -122.892   45.487\n",
              "2  2015-01-03  shot and Tasered     unarmed  ...        False   -97.281   37.695\n",
              "3  2015-01-04              shot  toy weapon  ...        False  -122.422   37.763\n",
              "\n",
              "[4 rows x 14 columns]"
            ]
          },
          "metadata": {
            "tags": []
          },
          "execution_count": 105
        }
      ]
    },
    {
      "cell_type": "markdown",
      "metadata": {
        "id": "VaPPR0Bqx-mF"
      },
      "source": [
        "Aqui se tiene una vision preliminar de los datos que se trabajarán, son 4371 datos con 14 atributos: \n",
        "\n",
        "\n",
        "* date(año-mes-dia)\n",
        "\n",
        "* manner_of_death(categoric)\n",
        "\n",
        "* armed(categoric)\n",
        "\n",
        "* age(int)\n",
        "\n",
        "* gender(categoric)\n",
        "\n",
        "* race(categoric)\n",
        "\n",
        "* city(categoric)\n",
        "\n",
        "* state(categoric)\n",
        "\n",
        "* threat_level(categoric)\n",
        "\n",
        "* flee(categoric)\n",
        "\n",
        "* body_camera(boolean)\n",
        "\n",
        "* longitude(float)\n",
        "\n",
        "* latitude(float)"
      ]
    },
    {
      "cell_type": "markdown",
      "metadata": {
        "id": "JlY8zEyvCa87"
      },
      "source": [
        "# Análisis de datos"
      ]
    },
    {
      "cell_type": "markdown",
      "metadata": {
        "id": "rBsdqmxP1-cn"
      },
      "source": [
        "En la siguiente sección se presentan distintos gráficos generados a partir de los datos tras su limpieza. En base a estos se realiza una exploración inicial de la distribución de los datos en base a sus atributos. "
      ]
    },
    {
      "cell_type": "code",
      "metadata": {
        "id": "H6mK5q29yvQG",
        "outputId": "59a8f9e8-061b-41ca-fd2b-164af40f7034",
        "colab": {
          "base_uri": "https://localhost:8080/",
          "height": 383
        }
      },
      "source": [
        "print(\"Cantidad de Datos: \",len(data),'\\n')\n",
        "datos = data\n",
        "\n",
        "males = datos[datos['gender'] == 'M']\n",
        "females = datos[datos['gender'] == 'F']\n",
        "\n",
        "\n",
        "age = datos['age']\n",
        "plt.hist(males['age'], label=\"Males\")\n",
        "plt.hist(females['age'], label=\"Females\")\n",
        "plt.legend()\n",
        "plt.title(\"Age\")\n",
        "plt.show()\n",
        "\n",
        "print(\"Media: \",round(age.mean(), 2))\n",
        "print(\"Desviación: \", round(age.std(), 2))\n",
        "print(\"Mediana: \",age.median())\n",
        "print(\"Moda: \",age.mode()[0])\n"
      ],
      "execution_count": null,
      "outputs": [
        {
          "output_type": "stream",
          "text": [
            "Cantidad de Datos:  4371 \n",
            "\n"
          ],
          "name": "stdout"
        },
        {
          "output_type": "display_data",
          "data": {
            "image/png": "[encoded data removed]",
            "text/plain": [
              "<Figure size 432x288 with 1 Axes>"
            ]
          },
          "metadata": {
            "tags": [],
            "needs_background": "light"
          }
        },
        {
          "output_type": "stream",
          "text": [
            "Media:  36.6\n",
            "Desviación:  12.77\n",
            "Mediana:  34.0\n",
            "Moda:  31.0\n"
          ],
          "name": "stdout"
        }
      ]
    },
    {
      "cell_type": "markdown",
      "metadata": {
        "id": "JUauy8X42LiK"
      },
      "source": [
        "El gráfico de edad nos muestra que hay una gran diferencia entre la cantidad de mujeres y hombres en el dataset, además se observa que hay un gran incremento en la cantidad de personas involucradas en disparos policiales a partir de los 23-24 años aprox para el caso de los hombres, siendo este el punto de mayor concentración de los datos para luego ir descendiendo a medida que crece la edad.\n",
        "En el caso de las mujeres la cantidad de datos se mantiene bastante estable en el rango de edad de 20-40 años, para luego ir descendiendo a medida que crece la edad"
      ]
    },
    {
      "cell_type": "code",
      "metadata": {
        "id": "6Z-UmDrq8Q8k",
        "outputId": "92b68d63-5101-4917-a539-6afd737200b3",
        "colab": {
          "base_uri": "https://localhost:8080/",
          "height": 280
        }
      },
      "source": [
        "gender = datos.groupby('gender').size()\n",
        "gender = gender.to_dict()\n",
        "\n",
        "\n",
        "labels = gender.keys()\n",
        "total = 0\n",
        "for p in gender.values():\n",
        "  total+=p\n",
        "porcentajes = []\n",
        "for p in gender.values():\n",
        "  porcentajes.append(p/total)\n",
        "explode = (0, 0.1)\n",
        "\n",
        "fig1, ax1 = plt.subplots()\n",
        "fig1.suptitle('Genders')\n",
        "ax1.pie(porcentajes, explode=explode, labels=labels, autopct='%1.1f%%',\n",
        "        shadow=False, startangle=90)\n",
        "ax1.axis('equal')  # Equal aspect ratio ensures that pie is drawn as a circle.\n",
        "\n",
        "plt.show()"
      ],
      "execution_count": null,
      "outputs": [
        {
          "output_type": "display_data",
          "data": {
            "image/png": "[encoded data removed]",
            "text/plain": [
              "<Figure size 432x288 with 1 Axes>"
            ]
          },
          "metadata": {
            "tags": []
          }
        }
      ]
    },
    {
      "cell_type": "markdown",
      "metadata": {
        "id": "sAIkDziM5u2J"
      },
      "source": [
        "En el grafo se observa con mayor claridad la gran diferencia entre las víctimas hombres y mujeres. Esto podría deberse a una sobrerrepresentación de hombres en el dataset, pero dada la gran cantidad y origen de los datos es razonable concluir que este no es el caso."
      ]
    },
    {
      "cell_type": "code",
      "metadata": {
        "id": "bsgPEsrh8N6P",
        "outputId": "e6954866-09f4-4451-8b16-d2d7222415a6",
        "colab": {
          "base_uri": "https://localhost:8080/",
          "height": 403
        }
      },
      "source": [
        "race = datos.groupby('race').size()\n",
        "race = race.to_dict()\n",
        "\n",
        "\n",
        "labels = race.keys()\n",
        "total = 0\n",
        "for p in race.values():\n",
        "  total+=p\n",
        "porcentajes = []\n",
        "for p in race.values():\n",
        "  porcentajes.append(p/total)\n",
        "explode = (0, 0.1,0,0,0,0)  \n",
        "\n",
        "fig1, ax1 = plt.subplots(figsize=(8,6))\n",
        "fig1.suptitle('Races')\n",
        "ax1.pie(porcentajes, explode=explode, labels=labels, autopct='%1.1f%%',\n",
        "        shadow=False, startangle=90)\n",
        "ax1.axis('equal')  \n",
        "plt.show()"
      ],
      "execution_count": 23,
      "outputs": [
        {
          "output_type": "display_data",
          "data": {
            "image/png": "[encoded data removed]",
            "text/plain": [
              "<Figure size 576x432 with 1 Axes>"
            ]
          },
          "metadata": {
            "tags": []
          }
        }
      ]
    },
    {
      "cell_type": "markdown",
      "metadata": {
        "id": "2kVuYmMm8Jbd"
      },
      "source": [
        "Las etiquetas corresponden a las razas de las personas que fueron disparadas por la policia, siendo\n",
        "\n",
        "W: White, non-Hispanic\n",
        "\n",
        "B: Black, non-Hispanic\n",
        "\n",
        "A: Asian\n",
        "\n",
        "N: Native American\n",
        "\n",
        "H: Hispanic\n",
        "\n",
        "O: Other\n",
        "\n",
        "Se observa que en la mayoría de los casos las personas disparadas son de raza W, seguido de B y H, mientras tanto las otras razas tienen representación considerablemente menor con respecto a las otras en los datos"
      ]
    },
    {
      "cell_type": "code",
      "metadata": {
        "id": "luk4PE8H8MCQ",
        "outputId": "50b05bf2-1b03-4ed3-c677-0c85aed65b5f",
        "colab": {
          "base_uri": "https://localhost:8080/",
          "height": 250
        }
      },
      "source": [
        "manner_of_death = datos.groupby('manner_of_death').size()\n",
        "manner_of_death = manner_of_death.to_dict()\n",
        "\n",
        "fig, axs = plt.subplots(1, 1, figsize=(3, 3), sharey=True)\n",
        "axs.bar(manner_of_death.keys(),manner_of_death.values())\n",
        "fig.suptitle('Manner of death')\n"
      ],
      "execution_count": null,
      "outputs": [
        {
          "output_type": "execute_result",
          "data": {
            "text/plain": [
              "Text(0.5, 0.98, 'Manner of death')"
            ]
          },
          "metadata": {
            "tags": []
          },
          "execution_count": 16
        },
        {
          "output_type": "display_data",
          "data": {
            "image/png": "[encoded data removed]",
            "text/plain": [
              "<Figure size 216x216 with 1 Axes>"
            ]
          },
          "metadata": {
            "tags": [],
            "needs_background": "light"
          }
        }
      ]
    },
    {
      "cell_type": "markdown",
      "metadata": {
        "id": "-roeD3PTAV2R"
      },
      "source": [
        "La manera en que las víctimas murieron fueron mayoritariamente sólo por disparos de armas de fuego, pero también hubo una cantidad no despreciable de personas que murieron por causa de disparos y arma de electrochoque."
      ]
    },
    {
      "cell_type": "code",
      "metadata": {
        "id": "oUiFtyM28JoD",
        "outputId": "7d0737e8-af03-4495-f901-4fc15bdff703",
        "colab": {
          "base_uri": "https://localhost:8080/",
          "height": 250
        }
      },
      "source": [
        "state = datos.groupby('state').size()\n",
        "state = state.to_dict()\n",
        "\n",
        "fig, axs = plt.subplots(1, 1, figsize=(16, 3), sharey=True)\n",
        "axs.bar(state.keys(),state.values())\n",
        "fig.suptitle('State where the shot happened')"
      ],
      "execution_count": null,
      "outputs": [
        {
          "output_type": "execute_result",
          "data": {
            "text/plain": [
              "Text(0.5, 0.98, 'State where the shot happened')"
            ]
          },
          "metadata": {
            "tags": []
          },
          "execution_count": 110
        },
        {
          "output_type": "display_data",
          "data": {
            "image/png": "[encoded data removed]",
            "text/plain": [
              "<Figure size 1152x216 with 1 Axes>"
            ]
          },
          "metadata": {
            "tags": [],
            "needs_background": "light"
          }
        }
      ]
    },
    {
      "cell_type": "markdown",
      "metadata": {
        "id": "5yQFfdhk74Ij"
      },
      "source": [
        "Las etiquetas corresponden a la abreviacion de dos letras del codigo postal de cada estado, este gráfico muestra donde ocurrieron los disparos de la policia,\n",
        "siendo CA=California y Tx=Texas los estados donde ocurren más muertes por disparos de policias"
      ]
    },
    {
      "cell_type": "code",
      "metadata": {
        "id": "rOtgwP8I8HMg",
        "outputId": "291babc2-c933-454f-9fa0-16986215058a",
        "colab": {
          "base_uri": "https://localhost:8080/",
          "height": 250
        }
      },
      "source": [
        "flee = datos.groupby('flee').size()\n",
        "flee = flee.to_dict()\n",
        "\n",
        "fig, axs = plt.subplots(1, 1, figsize=(4, 3), sharey=True)\n",
        "axs.bar(flee.keys(),flee.values())\n",
        "fig.suptitle('Fleeing attempt')"
      ],
      "execution_count": null,
      "outputs": [
        {
          "output_type": "execute_result",
          "data": {
            "text/plain": [
              "Text(0.5, 0.98, 'fleeing attempt')"
            ]
          },
          "metadata": {
            "tags": []
          },
          "execution_count": 111
        },
        {
          "output_type": "display_data",
          "data": {
            "image/png": "[encoded data removed]",
            "text/plain": [
              "<Figure size 288x216 with 1 Axes>"
            ]
          },
          "metadata": {
            "tags": [],
            "needs_background": "light"
          }
        }
      ]
    },
    {
      "cell_type": "markdown",
      "metadata": {
        "id": "JJ_ph55Q_Rw_"
      },
      "source": [
        "Este grafico muestra si hubo un intento de escapar por parte de la persona de la policia, y de ser asi que medio uso para esto, se observa que la mayoría de las personas no intento escapar al momento del encuentro con la policia y que los restantes escaparon mayoritariamente por auto o a pie."
      ]
    },
    {
      "cell_type": "code",
      "metadata": {
        "id": "ugHr2NVU_e2P",
        "outputId": "9d1cb7b5-754c-4045-89b3-139792d5de32",
        "colab": {
          "base_uri": "https://localhost:8080/",
          "height": 250
        }
      },
      "source": [
        "threat_level= datos.groupby('Threat level').size()\n",
        "threat_level = threat_level.to_dict()\n",
        "\n",
        "fig, axs = plt.subplots(1, 1, figsize=(4, 3), sharey=True)\n",
        "axs.bar(threat_level.keys(),threat_level.values())\n",
        "fig.suptitle('Threat level')"
      ],
      "execution_count": null,
      "outputs": [
        {
          "output_type": "execute_result",
          "data": {
            "text/plain": [
              "Text(0.5, 0.98, 'threat_level')"
            ]
          },
          "metadata": {
            "tags": []
          },
          "execution_count": 112
        },
        {
          "output_type": "display_data",
          "data": {
            "image/png": "[encoded data removed]",
            "text/plain": [
              "<Figure size 288x216 with 1 Axes>"
            ]
          },
          "metadata": {
            "tags": [],
            "needs_background": "light"
          }
        }
      ]
    },
    {
      "cell_type": "markdown",
      "metadata": {
        "id": "A76mksTeAGMe"
      },
      "source": [
        "El grafo muestra el nivel de amenaza presentado por la víctima. En la mayoría de los casos este fue calificado como \"ataque\", seguido de \"otro\" y por último una pequeña cantidad no determinada."
      ]
    },
    {
      "cell_type": "code",
      "metadata": {
        "id": "O3uLpfdXIwP5",
        "outputId": "3070260c-3cbe-4524-c552-124c57b2c02f",
        "colab": {
          "base_uri": "https://localhost:8080/",
          "height": 246
        }
      },
      "source": [
        "from urllib.request import urlopen\n",
        "import json\n",
        "with urlopen('https://raw.githubusercontent.com/plotly/datasets/master/geojson-counties-fips.json') as response:\n",
        "    counties = json.load(response)\n",
        "\n",
        "import pandas as pd\n",
        "df = pd.read_csv(\"https://raw.githubusercontent.com/plotly/datasets/master/fips-unemp-16.csv\",\n",
        "                   dtype={\"fips\": str})\n",
        "\n",
        "import plotly.express as px\n",
        "\n",
        "fig = px.choropleth(df, geojson=counties, locations='fips', color='unemp',\n",
        "                           color_continuous_scale=\"Viridis\",\n",
        "                           range_color=(0, 12),\n",
        "                           scope=\"usa\",\n",
        "                           labels={'unemp':'unemployment rate'}\n",
        "                          )\n",
        "fig.update_layout(margin={\"r\":0,\"t\":0,\"l\":0,\"b\":0})\n",
        "fig.show()"
      ],
      "execution_count": null,
      "outputs": [
        {
          "output_type": "error",
          "ename": "TypeError",
          "evalue": "ignored",
          "traceback": [
            "\u001b[0;31m---------------------------------------------------------------------------\u001b[0m",
            "\u001b[0;31mTypeError\u001b[0m                                 Traceback (most recent call last)",
            "\u001b[0;32m<ipython-input-45-71d06806c9a3>\u001b[0m in \u001b[0;36m<module>\u001b[0;34m()\u001b[0m\n\u001b[1;32m     14\u001b[0m                            \u001b[0mrange_color\u001b[0m\u001b[0;34m=\u001b[0m\u001b[0;34m(\u001b[0m\u001b[0;36m0\u001b[0m\u001b[0;34m,\u001b[0m \u001b[0;36m12\u001b[0m\u001b[0;34m)\u001b[0m\u001b[0;34m,\u001b[0m\u001b[0;34m\u001b[0m\u001b[0;34m\u001b[0m\u001b[0m\n\u001b[1;32m     15\u001b[0m                            \u001b[0mscope\u001b[0m\u001b[0;34m=\u001b[0m\u001b[0;34m\"usa\"\u001b[0m\u001b[0;34m,\u001b[0m\u001b[0;34m\u001b[0m\u001b[0;34m\u001b[0m\u001b[0m\n\u001b[0;32m---> 16\u001b[0;31m                            \u001b[0mlabels\u001b[0m\u001b[0;34m=\u001b[0m\u001b[0;34m{\u001b[0m\u001b[0;34m'unemp'\u001b[0m\u001b[0;34m:\u001b[0m\u001b[0;34m'unemployment rate'\u001b[0m\u001b[0;34m}\u001b[0m\u001b[0;34m\u001b[0m\u001b[0;34m\u001b[0m\u001b[0m\n\u001b[0m\u001b[1;32m     17\u001b[0m                           )\n\u001b[1;32m     18\u001b[0m \u001b[0mfig\u001b[0m\u001b[0;34m.\u001b[0m\u001b[0mupdate_layout\u001b[0m\u001b[0;34m(\u001b[0m\u001b[0mmargin\u001b[0m\u001b[0;34m=\u001b[0m\u001b[0;34m{\u001b[0m\u001b[0;34m\"r\"\u001b[0m\u001b[0;34m:\u001b[0m\u001b[0;36m0\u001b[0m\u001b[0;34m,\u001b[0m\u001b[0;34m\"t\"\u001b[0m\u001b[0;34m:\u001b[0m\u001b[0;36m0\u001b[0m\u001b[0;34m,\u001b[0m\u001b[0;34m\"l\"\u001b[0m\u001b[0;34m:\u001b[0m\u001b[0;36m0\u001b[0m\u001b[0;34m,\u001b[0m\u001b[0;34m\"b\"\u001b[0m\u001b[0;34m:\u001b[0m\u001b[0;36m0\u001b[0m\u001b[0;34m}\u001b[0m\u001b[0;34m)\u001b[0m\u001b[0;34m\u001b[0m\u001b[0;34m\u001b[0m\u001b[0m\n",
            "\u001b[0;31mTypeError\u001b[0m: choropleth() got an unexpected keyword argument 'geojson'"
          ]
        }
      ]
    },
    {
      "cell_type": "code",
      "metadata": {
        "id": "OXwonb7R0Nux",
        "outputId": "d15cb682-201b-4763-e08c-a364d7347830",
        "colab": {
          "base_uri": "https://localhost:8080/",
          "height": 68
        }
      },
      "source": [
        "from urllib.request import urlopen\n",
        "import json\n",
        "with urlopen('https://raw.githubusercontent.com/plotly/datasets/master/geojson-counties-fips.json') as response:\n",
        "   counties = json.load(response)\n",
        "\n",
        "%pip install -U plotly\n",
        "import plotly.express as px"
      ],
      "execution_count": null,
      "outputs": [
        {
          "output_type": "stream",
          "text": [
            "Requirement already up-to-date: plotly in /usr/local/lib/python3.6/dist-packages (4.11.0)\n",
            "Requirement already satisfied, skipping upgrade: retrying>=1.3.3 in /usr/local/lib/python3.6/dist-packages (from plotly) (1.3.3)\n",
            "Requirement already satisfied, skipping upgrade: six in /usr/local/lib/python3.6/dist-packages (from plotly) (1.15.0)\n"
          ],
          "name": "stdout"
        }
      ]
    },
    {
      "cell_type": "code",
      "metadata": {
        "id": "qJb_O-Ijw799"
      },
      "source": [
        "# Generar FIPS a partir de latitud y longitud:\n",
        "\n",
        "import requests\n",
        "import urllib\n",
        "def latitude_longitude_to_FIPS(latitude, longitude):\n",
        "  #Encode parameters\n",
        "  params = urllib.parse.urlencode({'latitude': latitude, 'longitude':longitude, 'format':'json'})\n",
        "  \n",
        "  #Contruct request URL\n",
        "  url = 'https://geo.fcc.gov/api/census/block/find?' + params\n",
        "\n",
        "  #Get response from API\n",
        "  response = requests.get(url)\n",
        "\n",
        "  #Parse json in response\n",
        "  auxdata = response.json()\n",
        "\n",
        "  #Return FIPS code\n",
        "  return auxdata['County']['FIPS']\n",
        "\n",
        "data_FIPS = data.apply (lambda row: latitude_longitude_to_FIPS(row['latitude'], row['longitude']), axis=1)\n",
        "data['FIPS']=data_FIPS"
      ],
      "execution_count": null,
      "outputs": []
    },
    {
      "cell_type": "markdown",
      "metadata": {
        "id": "nBS7fJvXHTMm"
      },
      "source": [
        "# Preguntas y Problemas:\n",
        "\n",
        "A partir de la motivación original y la exploración del dataset presentada anteriormente, se formulan las siguientes preguntas que tratarán de ser respondidas mediante la minería de datos:\n",
        "\n",
        "* ¿Cuales son los factores que influyen para que una persona sea disparada por la policía?\n",
        "\n",
        "* ¿Cuáles son los factores que consideran los policías para dispararle a una persona si no está armada?\n",
        "\n",
        "* ¿Existe algún factor que incide en si una persona es disparada además del nivel de amenaza?\n",
        "\n",
        "* ¿Existe alguna relación que permita predecir el nivel de amenaza de una persona en encuentros policiales?\n",
        "\n",
        "* ¿Existe alguna relación geográfica entre la raza de las víctimas y las circunstancias de sus muertes?\n",
        "\n",
        "* ¿Presenta la gente joven un comportamiento más agresivo al ser confrontados por un policía armado?\n",
        "\n"
      ]
    }
  ]
}