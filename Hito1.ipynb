{
  "nbformat": 4,
  "nbformat_minor": 0,
  "metadata": {
    "colab": {
      "name": "PruebaPandas",
      "provenance": [],
      "collapsed_sections": []
    },
    "kernelspec": {
      "name": "python3",
      "display_name": "Python 3"
    }
  },
  "cells": [
    {
      "cell_type": "code",
      "metadata": {
        "id": "r1CPaHrzypZ7"
      },
      "source": [
        "import pandas as pd\n",
        "import numpy as np\n",
        "import matplotlib.pyplot as plt\n",
        "data = pd.read_csv(\"https://raw.githubusercontent.com/washingtonpost/data-police-shootings/master/fatal-police-shootings-data.csv\")"
      ],
      "execution_count": null,
      "outputs": []
    },
    {
      "cell_type": "markdown",
      "metadata": {
        "id": "VBTQqOw0_jSk"
      },
      "source": [
        "# Limpieza de Datos"
      ]
    },
    {
      "cell_type": "markdown",
      "metadata": {
        "id": "xSDFQjg3_n-Z"
      },
      "source": [
        "Primero es importante ver la cantidad de datos que trae el dataset y además revisar cuántos valores nulos (NaN) hay en este mismo."
      ]
    },
    {
      "cell_type": "code",
      "metadata": {
        "id": "yiSzTNvm0f3V",
        "outputId": "2f5bb85a-82c2-42ec-e98f-49d8a162bc4e",
        "colab": {
          "base_uri": "https://localhost:8080/",
          "height": 374
        }
      },
      "source": [
        "print(\"Cantidad de Datos: \", len(data), \"\\n\")\n",
        "print(\"Cantidad de nulos por atributo: \")\n",
        "data.isnull().sum()"
      ],
      "execution_count": null,
      "outputs": [
        {
          "output_type": "stream",
          "text": [
            "Cantidad de Datos:  5673 \n",
            "\n",
            "Cantidad de nulos por atributo: \n"
          ],
          "name": "stdout"
        },
        {
          "output_type": "execute_result",
          "data": {
            "text/plain": [
              "id                           0\n",
              "name                       209\n",
              "date                         0\n",
              "manner_of_death              0\n",
              "armed                      212\n",
              "age                        253\n",
              "gender                       1\n",
              "race                       590\n",
              "city                         0\n",
              "state                        0\n",
              "signs_of_mental_illness      0\n",
              "threat_level                 0\n",
              "flee                       283\n",
              "body_camera                  0\n",
              "longitude                  275\n",
              "latitude                   275\n",
              "is_geocoding_exact           0\n",
              "dtype: int64"
            ]
          },
          "metadata": {
            "tags": []
          },
          "execution_count": 103
        }
      ]
    },
    {
      "cell_type": "markdown",
      "metadata": {
        "id": "NuQYk00NAmhX"
      },
      "source": [
        "El atributo de raza posee la mayor cantidad de nulos, sin embargo solo logra ser el 10% de la cantidad total de datos, de modo que es razonable la idea de eliminar los datos que poseen nulos. Además los atributos ID y nombre no son importantes en el procedimiento y obtención de datos que se llevará a cabo, de modo que ambas columnas se deben eliminar."
      ]
    },
    {
      "cell_type": "code",
      "metadata": {
        "id": "29LoditgAHOd",
        "outputId": "30cb5bae-0680-490b-f22c-cc370966bab0",
        "colab": {
          "base_uri": "https://localhost:8080/",
          "height": 102
        }
      },
      "source": [
        "tamanho_inicial = len(data)\n",
        "data = data.drop([\"id\",\"name\",\"is_geocoding_exact\"],axis=1)\n",
        "data = data.dropna()\n",
        "tamanho_final = len(data)\n",
        "\n",
        "print(\"Tamaño pre procesado: \",tamanho_inicial,\"\\nTamaño post procesado: \", tamanho_final,\"\\n\")\n",
        "print(\"Diferencia: \",tamanho_inicial-tamanho_final)\n",
        "print(\"Porcentaje eliminado: \",(int(100-((tamanho_final*100)/tamanho_inicial))),'%')"
      ],
      "execution_count": null,
      "outputs": [
        {
          "output_type": "stream",
          "text": [
            "Tamaño pre procesado:  5673 \n",
            "Tamaño post procesado:  4371 \n",
            "\n",
            "Diferencia:  1302\n",
            "Porcentaje eliminado:  22 %\n"
          ],
          "name": "stdout"
        }
      ]
    },
    {
      "cell_type": "code",
      "metadata": {
        "id": "gHwZe2omDfWA",
        "outputId": "a736105f-6b49-4070-c798-55db113946f5",
        "colab": {
          "base_uri": "https://localhost:8080/",
          "height": 241
        }
      },
      "source": [
        "data.head(4)"
      ],
      "execution_count": null,
      "outputs": [
        {
          "output_type": "execute_result",
          "data": {
            "text/html": [
              "<div>\n",
              "<style scoped>\n",
              "    .dataframe tbody tr th:only-of-type {\n",
              "        vertical-align: middle;\n",
              "    }\n",
              "\n",
              "    .dataframe tbody tr th {\n",
              "        vertical-align: top;\n",
              "    }\n",
              "\n",
              "    .dataframe thead th {\n",
              "        text-align: right;\n",
              "    }\n",
              "</style>\n",
              "<table border=\"1\" class=\"dataframe\">\n",
              "  <thead>\n",
              "    <tr style=\"text-align: right;\">\n",
              "      <th></th>\n",
              "      <th>date</th>\n",
              "      <th>manner_of_death</th>\n",
              "      <th>armed</th>\n",
              "      <th>age</th>\n",
              "      <th>gender</th>\n",
              "      <th>race</th>\n",
              "      <th>city</th>\n",
              "      <th>state</th>\n",
              "      <th>signs_of_mental_illness</th>\n",
              "      <th>threat_level</th>\n",
              "      <th>flee</th>\n",
              "      <th>body_camera</th>\n",
              "      <th>longitude</th>\n",
              "      <th>latitude</th>\n",
              "    </tr>\n",
              "  </thead>\n",
              "  <tbody>\n",
              "    <tr>\n",
              "      <th>0</th>\n",
              "      <td>2015-01-02</td>\n",
              "      <td>shot</td>\n",
              "      <td>gun</td>\n",
              "      <td>53.0</td>\n",
              "      <td>M</td>\n",
              "      <td>A</td>\n",
              "      <td>Shelton</td>\n",
              "      <td>WA</td>\n",
              "      <td>True</td>\n",
              "      <td>attack</td>\n",
              "      <td>Not fleeing</td>\n",
              "      <td>False</td>\n",
              "      <td>-123.122</td>\n",
              "      <td>47.247</td>\n",
              "    </tr>\n",
              "    <tr>\n",
              "      <th>1</th>\n",
              "      <td>2015-01-02</td>\n",
              "      <td>shot</td>\n",
              "      <td>gun</td>\n",
              "      <td>47.0</td>\n",
              "      <td>M</td>\n",
              "      <td>W</td>\n",
              "      <td>Aloha</td>\n",
              "      <td>OR</td>\n",
              "      <td>False</td>\n",
              "      <td>attack</td>\n",
              "      <td>Not fleeing</td>\n",
              "      <td>False</td>\n",
              "      <td>-122.892</td>\n",
              "      <td>45.487</td>\n",
              "    </tr>\n",
              "    <tr>\n",
              "      <th>2</th>\n",
              "      <td>2015-01-03</td>\n",
              "      <td>shot and Tasered</td>\n",
              "      <td>unarmed</td>\n",
              "      <td>23.0</td>\n",
              "      <td>M</td>\n",
              "      <td>H</td>\n",
              "      <td>Wichita</td>\n",
              "      <td>KS</td>\n",
              "      <td>False</td>\n",
              "      <td>other</td>\n",
              "      <td>Not fleeing</td>\n",
              "      <td>False</td>\n",
              "      <td>-97.281</td>\n",
              "      <td>37.695</td>\n",
              "    </tr>\n",
              "    <tr>\n",
              "      <th>3</th>\n",
              "      <td>2015-01-04</td>\n",
              "      <td>shot</td>\n",
              "      <td>toy weapon</td>\n",
              "      <td>32.0</td>\n",
              "      <td>M</td>\n",
              "      <td>W</td>\n",
              "      <td>San Francisco</td>\n",
              "      <td>CA</td>\n",
              "      <td>True</td>\n",
              "      <td>attack</td>\n",
              "      <td>Not fleeing</td>\n",
              "      <td>False</td>\n",
              "      <td>-122.422</td>\n",
              "      <td>37.763</td>\n",
              "    </tr>\n",
              "  </tbody>\n",
              "</table>\n",
              "</div>"
            ],
            "text/plain": [
              "         date   manner_of_death       armed  ...  body_camera longitude latitude\n",
              "0  2015-01-02              shot         gun  ...        False  -123.122   47.247\n",
              "1  2015-01-02              shot         gun  ...        False  -122.892   45.487\n",
              "2  2015-01-03  shot and Tasered     unarmed  ...        False   -97.281   37.695\n",
              "3  2015-01-04              shot  toy weapon  ...        False  -122.422   37.763\n",
              "\n",
              "[4 rows x 14 columns]"
            ]
          },
          "metadata": {
            "tags": []
          },
          "execution_count": 105
        }
      ]
    }
  ]
}